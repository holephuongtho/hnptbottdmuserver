{
 "cells": [
  {
   "cell_type": "code",
   "execution_count": 2,
   "metadata": {},
   "outputs": [
    {
     "name": "stderr",
     "output_type": "stream",
     "text": [
      "/home/lap12985/.local/lib/python3.6/site-packages/fuzzywuzzy/fuzz.py:11: UserWarning: Using slow pure-python SequenceMatcher. Install python-Levenshtein to remove this warning\n",
      "  warnings.warn('Using slow pure-python SequenceMatcher. Install python-Levenshtein to remove this warning')\n"
     ]
    },
    {
     "name": "stdout",
     "output_type": "stream",
     "text": [
      "Em muốn học khối A00 thì thi trường nào vậy? Em thích trường đại học bách khoa Đại học Bách khoa 100\n",
      "Em muốn học khối A00 thì thi trường nào vậy? Em thích trường đại học bách khoa Bách Khoa 100\n",
      "Em muốn học khối A00 thì thi trường nào vậy? Em thích trường đại học bách khoa A00 100\n",
      "Đại học kinh tế có ktx không? Đại học Kinh tế TC 94\n",
      "Đại học kinh tế có ktx không? đại học kinh tế  100\n"
     ]
    }
   ],
   "source": [
    "import sys\n",
    "import json\n",
    "import itertools\n",
    "from fuzzywuzzy import process,fuzz\n",
    "from Extract import extract"
   ]
  },
  {
   "cell_type": "code",
   "execution_count": 3,
   "metadata": {},
   "outputs": [],
   "source": [
    "alias = dict()\n",
    "attention = dict()"
   ]
  },
  {
   "cell_type": "code",
   "execution_count": 4,
   "metadata": {},
   "outputs": [],
   "source": [
    "attention['Truong'] = ['Trường', 'Truong', 'Trg', 'Truog'] \n",
    "alias['Truong'] = [\n",
    "    'Trường gì',\n",
    "    'Trường nào',\n",
    "    'Truong gì', \n",
    "    'Truong nào',\n",
    "    'Trg gì', \n",
    "    'Trg nào',\n",
    "    'Truog gì ', \n",
    "    'Truog nào ',\n",
    "    # ...\n",
    " ]"
   ]
  },
  {
   "cell_type": "code",
   "execution_count": 5,
   "metadata": {},
   "outputs": [],
   "source": [
    "attention['KhoiThi'] = ['Khối', 'Khoi'] \n",
    "alias['KhoiThi'] = [\n",
    "    'Khối gì',\n",
    "    'Khối nào',\n",
    "    'Khoi gì',\n",
    "    'khoi nào',\n",
    "    # ...\n",
    "]"
   ]
  },
  {
   "cell_type": "code",
   "execution_count": 6,
   "metadata": {},
   "outputs": [],
   "source": [
    "attention['DiemChuan'] = ['Điểm chuẩn', 'Điểm'] \n",
    "alias['DiemChuan'] = [\n",
    "    'Điểm chuẩn bao nhiêu',\n",
    "    'Điểm chuẩn tầm bao nhiêu',\n",
    "    'Điểm chuẩn khoảng bao nhiêu',\n",
    "    'Điểm chuẩn lấy bao nhiêu',\n",
    "    'bao nhiêu Điểm',\n",
    "    'tầm bao nhiêu Điểm',\n",
    "    'khoảng bao nhiêu Điểm ',\n",
    "    'lấy bao nhiêu Điểm',\n",
    "    'Điểm bao nhiêu',\n",
    "    'Điểm tầm bao nhiêu',\n",
    "    'Điểm khoảng bao nhiêu',\n",
    "    'Điểm lấy bao nhiêu',\n",
    "    'bao nhiêu Đ',\n",
    "    'tầm bao nhiêu Đ',\n",
    "    'khoảng bao nhiêu Đ',\n",
    "    'lấy bao nhiêu Đ',\n",
    "    'Đ bao nhiêu',\n",
    "    'Đ tầm bao nhiêu',\n",
    "    'Đ khoảng bao nhiêu',\n",
    "    'Đ lấy bao nhiêu',\n",
    "# ...\n",
    " ]"
   ]
  },
  {
   "cell_type": "code",
   "execution_count": 7,
   "metadata": {},
   "outputs": [],
   "source": [
    "attention['NganhHoc'] = ['Ngành'] \n",
    "alias['NganhHoc'] = [\n",
    "    'học ngành gì',\n",
    "    'học ngành nào',\n",
    "    'chọn ngành gì',\n",
    "    'chọn ngành nào',\n",
    "    'thi ngành gì',\n",
    "    'thi ngành nào',\n",
    "    'đi ngành gì',\n",
    "    'đi ngành nào',\n",
    "    'đi theo ngành gì',\n",
    "    'đi theo ngành nào'\n",
    "# ...\n",
    " ]"
   ]
  },
  {
   "cell_type": "code",
   "execution_count": 8,
   "metadata": {},
   "outputs": [],
   "source": [
    "attention['LoaiHinh'] = ['loại hình']\n",
    "\n",
    "alias['LoaiHinh']= [\n",
    "    'loại hình gì'\n",
    "# ...\n",
    "]"
   ]
  },
  {
   "cell_type": "code",
   "execution_count": 9,
   "metadata": {},
   "outputs": [],
   "source": [
    "attention['DiaChi'] = ['Địa chỉ', 'ĐC', 'DC' , 'ĐChi ' , ' DChi ',' Cơ Sở', ' CS']\n",
    "\n",
    "alias['DiaChi']= [\n",
    "'Địa chỉ ở đâu',\n",
    "'ĐC ở đâu',\n",
    "'DC ở đâu',\n",
    "'ĐChỉ ở đâu',\n",
    "'DChỉ ở đâu',\n",
    "'Có mấy cơ sở'\n",
    "]"
   ]
  },
  {
   "cell_type": "code",
   "execution_count": 10,
   "metadata": {},
   "outputs": [],
   "source": [
    "attention['KyTucXa'] = ['ký túc xá', 'KTX']\n",
    "alias['KyTucXa']= [\n",
    "'Có ký túc xá hay không',\n",
    "'Có ký túc xá không'\n",
    "]"
   ]
  },
  {
   "cell_type": "code",
   "execution_count": 11,
   "metadata": {},
   "outputs": [],
   "source": [
    "attention['MaTruong'] = ['Mã trường', 'Ký hiệu trường', 'Kí hiệu trường']\n",
    "\n",
    "alias['MaTruong']= [\n",
    "'Mã trường là gì',\n",
    "'Mã trường?',\n",
    "'Mã trường như thế nào',\n",
    "'Mã trường thế nào',\n",
    "'Ký hiệu trường là gì',\n",
    "]"
   ]
  },
  {
   "cell_type": "code",
   "execution_count": 12,
   "metadata": {},
   "outputs": [],
   "source": [
    "attention['HocPhi'] = ['Học phí', 'HP', 'HPhí']\n",
    "\n",
    "alias['HocPhi']= [\n",
    "'Học phí bao nhiêu',\n",
    "'Học phí có cao không',\n",
    "'Một năm bao nhiêu',\n",
    "'Bao nhiêu một năm',\n",
    "'1năm bao nhiêu',\n",
    "'Bao nhiêu 1 năm',\n",
    "'Học phí thế nào',\n",
    "'Bao nhiêu 1 học kỳ',\n",
    "'1 học kỳ bao nhiêu',\n",
    "'Bao nhiêu một học kỳ',\n",
    "'một học kỳ bao nhiêu',\n",
    "# ...\n",
    "]"
   ]
  },
  {
   "cell_type": "code",
   "execution_count": 13,
   "metadata": {},
   "outputs": [],
   "source": [
    "def score_similarity(text, key):\n",
    "    a1 = process.extract(text, alias[key])\n",
    "    a2 = process.extract(text, attention[key], scorer=fuzz.token_set_ratio)          \n",
    "#     print('a1', a1, 'a2', a2)\n",
    "    score_list = list()\n",
    "    for i in range(len(a1)):\n",
    "        score = 0;\n",
    "        score_a1 = a1[i][1];\n",
    "#         score_a3 = fuzz.ratio(text, a1[i][0])\n",
    "        for j in range(len(a2)):\n",
    "            score_a2 = a2[j][1]\n",
    "            score = max(score, harmony(score_a1, score_a2))\n",
    "        score_list.append((a1[i][0], score))\n",
    "    return score_list"
   ]
  },
  {
   "cell_type": "code",
   "execution_count": 14,
   "metadata": {},
   "outputs": [],
   "source": [
    "def harmony(a, b, c=None):\n",
    "    if c is None:\n",
    "        if a == 0 or b == 0:\n",
    "            return 0\n",
    "        return 2*a*b/(a+b)\n",
    "    else:\n",
    "        if a == 0 or b == 0 or c == 0:\n",
    "            return 0\n",
    "        return 3*a*b*c/(a*c + a*b + b*c)"
   ]
  },
  {
   "cell_type": "code",
   "execution_count": 15,
   "metadata": {},
   "outputs": [],
   "source": [
    "DEFINED_INTENTS = [\"Truong\", \"KhoiThi\", \"DiemChuan\", \"NganhHoc\", \"LoaiHinh\", \"DiaChi\", \"KyTucXa\", \"MaTruong\", \"HocPhi\"]\n",
    "INTENT_THRESHOLD = 87 #magical number\n",
    "MIN_NORMAL_LENGTH = 3 #Những normal nào length quá ngắn thì sẽ filter đi vì không có ý nghĩa xác định intent\n",
    "def get_candidate_intent(list_normal_text):\n",
    "    print('Input: ' + str(list_normal_text))\n",
    "    candidate_intent_dict = dict()\n",
    "    if list_normal_text is None:\n",
    "        return candidate_special_intent_dict\n",
    "    for text in list_normal_text:\n",
    "        text = text.strip()\n",
    "        if len(text) < MIN_NORMAL_LENGTH:\n",
    "            continue\n",
    "        for intent in DEFINED_INTENTS:\n",
    "            list_score = score_similarity(text, intent)\n",
    "            list_score.sort(key=lambda tup: tup[1], reverse = True)\n",
    "            best = list_score[0]\n",
    "            if best[1] > INTENT_THRESHOLD:\n",
    "                print(\"Similarity score of [\", text,\"]: \", best)\n",
    "                if intent in candidate_intent_dict:\n",
    "                    candidate_intent_dict[intent].append(text)\n",
    "                else:\n",
    "                    candidate_intent_dict[intent] = [text]\n",
    "    print('Output: ' + str(candidate_intent_dict))\n",
    "    return candidate_intent_dict"
   ]
  },
  {
   "cell_type": "code",
   "execution_count": 1,
   "metadata": {},
   "outputs": [],
   "source": [
    "def extract_and_get_intent(text):\n",
    "#     try:\n",
    "#         text = compound2unicode(text)\n",
    "#         if text.count(\" \") == 0:\n",
    "#             text = text + \".\"\n",
    "#         for k,v in MAPPING_DICT.items():\n",
    "#             text = text.replace(k, v)\n",
    "            \n",
    "        print('\\nINPUT: ' + text)\n",
    "        extracted = extract(text)\n",
    "        extracted_dict = dict()\n",
    "        for extractEle in extracted:\n",
    "            key = extractEle['key']\n",
    "            value = extractEle['value']\n",
    "            if key not in extracted_dict.keys():\n",
    "                extracted_dict[key] = [value]\n",
    "            else:\n",
    "                if value not in extracted_dict[key]:\n",
    "                    extracted_dict[key].append(value)\n",
    "        extracted_dict_keys = extracted_dict.keys() \n",
    "        candidate_intent_dict = get_candidate_intent([text]) \n",
    "\n",
    "        for key in DEFINED_INTENTS:\n",
    "            if key in extracted_dict_keys and key in candidate_intent_dict.keys():\n",
    "                candidate_intent_dict.pop(key)\n",
    "                \n",
    "\n",
    "        print('\\n     OUTPUT: INTENT:' + str(candidate_intent_dict))\n",
    "        print('\\n     OUTPUT: EXTRACT:' + str(extracted_dict))\n",
    "        return extracted, extracted_dict, candidate_intent_dict"
   ]
  },
  {
   "cell_type": "code",
   "execution_count": 17,
   "metadata": {},
   "outputs": [
    {
     "name": "stdout",
     "output_type": "stream",
     "text": [
      "\n",
      "INPUT: Trường giao thông vận tải học phí có cao không?\n",
      "Trường giao thông vận tải học phí có cao không? ĐH Giao Thông Vận Tải  91\n",
      "Input: ['Trường giao thông vận tải học phí có cao không?']\n",
      "Similarity score of [ Trường giao thông vận tải học phí có cao không? ]:  ('Trường gì', 94.73684210526316)\n",
      "Similarity score of [ Trường giao thông vận tải học phí có cao không? ]:  ('Học phí có cao không', 94.73684210526316)\n",
      "Output: {'Truong': ['Trường giao thông vận tải học phí có cao không?'], 'HocPhi': ['Trường giao thông vận tải học phí có cao không?']}\n",
      "\n",
      "     OUTPUT: INTENT:{'HocPhi': ['Trường giao thông vận tải học phí có cao không?']}\n"
     ]
    },
    {
     "data": {
      "text/plain": [
       "([{'value': 'UTC', 'key': 'Truong'}],\n",
       " {'Truong': ['UTC']},\n",
       " {'HocPhi': ['Trường giao thông vận tải học phí có cao không?']})"
      ]
     },
     "execution_count": 17,
     "metadata": {},
     "output_type": "execute_result"
    }
   ],
   "source": [
    "extract_and_get_intent(\"Trường giao thông vận tải học phí có cao không?\")"
   ]
  },
  {
   "cell_type": "code",
   "execution_count": 18,
   "metadata": {},
   "outputs": [
    {
     "name": "stdout",
     "output_type": "stream",
     "text": [
      "\n",
      "INPUT: Em không biết thì trường gì\n",
      "Input: ['Em không biết thì trường gì']\n",
      "Similarity score of [ Em không biết thì trường gì ]:  ('Trường gì', 94.73684210526316)\n",
      "Output: {'Truong': ['Em không biết thì trường gì']}\n",
      "\n",
      "     OUTPUT: INTENT:{'Truong': ['Em không biết thì trường gì']}\n"
     ]
    },
    {
     "data": {
      "text/plain": [
       "([], {}, {'Truong': ['Em không biết thì trường gì']})"
      ]
     },
     "execution_count": 18,
     "metadata": {},
     "output_type": "execute_result"
    }
   ],
   "source": [
    "extract_and_get_intent(\"Em không biết thì trường gì\")"
   ]
  },
  {
   "cell_type": "code",
   "execution_count": 19,
   "metadata": {},
   "outputs": [
    {
     "name": "stdout",
     "output_type": "stream",
     "text": [
      "\n",
      "INPUT: Khoa học và kỹ thuật máy tính\n",
      "Input: ['Khoa học và kỹ thuật máy tính']\n",
      "Output: {}\n",
      "\n",
      "     OUTPUT: INTENT:{}\n"
     ]
    },
    {
     "data": {
      "text/plain": [
       "([], {}, {})"
      ]
     },
     "execution_count": 19,
     "metadata": {},
     "output_type": "execute_result"
    }
   ],
   "source": [
    "extract_and_get_intent(\"Khoa học và kỹ thuật máy tính\")"
   ]
  },
  {
   "cell_type": "code",
   "execution_count": 20,
   "metadata": {},
   "outputs": [
    {
     "name": "stdout",
     "output_type": "stream",
     "text": [
      "\n",
      "INPUT: 25\n",
      "25 D25 100\n",
      "25 M25 100\n",
      "Input: ['25']\n",
      "Output: {}\n",
      "\n",
      "     OUTPUT: INTENT:{}\n"
     ]
    },
    {
     "data": {
      "text/plain": [
       "([{'value': 'D25', 'key': 'KhoiThi'},\n",
       "  {'value': 'M25', 'key': 'KhoiThi'},\n",
       "  {'key': 'DiemChuan', 'value': 25.0}],\n",
       " {'KhoiThi': ['D25', 'M25'], 'DiemChuan': [25.0]},\n",
       " {})"
      ]
     },
     "execution_count": 20,
     "metadata": {},
     "output_type": "execute_result"
    }
   ],
   "source": [
    "extract_and_get_intent(\"25\")"
   ]
  },
  {
   "cell_type": "code",
   "execution_count": 21,
   "metadata": {},
   "outputs": [
    {
     "name": "stdout",
     "output_type": "stream",
     "text": [
      "\n",
      "INPUT: Trường Thủ Dầu Một có ký túc xá không? học phí như thế nào?\n",
      "Input: ['Trường Thủ Dầu Một có ký túc xá không? học phí như thế nào?']\n",
      "Similarity score of [ Trường Thủ Dầu Một có ký túc xá không? học phí như thế nào? ]:  ('Trường gì', 92.47311827956989)\n",
      "Similarity score of [ Trường Thủ Dầu Một có ký túc xá không? học phí như thế nào? ]:  ('Có ký túc xá không', 94.73684210526316)\n",
      "Similarity score of [ Trường Thủ Dầu Một có ký túc xá không? học phí như thế nào? ]:  ('Học phí bao nhiêu', 92.47311827956989)\n",
      "Output: {'Truong': ['Trường Thủ Dầu Một có ký túc xá không? học phí như thế nào?'], 'KyTucXa': ['Trường Thủ Dầu Một có ký túc xá không? học phí như thế nào?'], 'HocPhi': ['Trường Thủ Dầu Một có ký túc xá không? học phí như thế nào?']}\n",
      "\n",
      "     OUTPUT: INTENT:{'Truong': ['Trường Thủ Dầu Một có ký túc xá không? học phí như thế nào?'], 'KyTucXa': ['Trường Thủ Dầu Một có ký túc xá không? học phí như thế nào?'], 'HocPhi': ['Trường Thủ Dầu Một có ký túc xá không? học phí như thế nào?']}\n"
     ]
    },
    {
     "data": {
      "text/plain": [
       "([],\n",
       " {},\n",
       " {'Truong': ['Trường Thủ Dầu Một có ký túc xá không? học phí như thế nào?'],\n",
       "  'KyTucXa': ['Trường Thủ Dầu Một có ký túc xá không? học phí như thế nào?'],\n",
       "  'HocPhi': ['Trường Thủ Dầu Một có ký túc xá không? học phí như thế nào?']})"
      ]
     },
     "execution_count": 21,
     "metadata": {},
     "output_type": "execute_result"
    }
   ],
   "source": [
    "extract_and_get_intent(\"Trường Thủ Dầu Một có ký túc xá không? học phí như thế nào?\")"
   ]
  },
  {
   "cell_type": "code",
   "execution_count": null,
   "metadata": {},
   "outputs": [],
   "source": []
  }
 ],
 "metadata": {
  "kernelspec": {
   "display_name": "Python 3",
   "language": "python",
   "name": "python3"
  },
  "language_info": {
   "codemirror_mode": {
    "name": "ipython",
    "version": 3
   },
   "file_extension": ".py",
   "mimetype": "text/x-python",
   "name": "python",
   "nbconvert_exporter": "python",
   "pygments_lexer": "ipython3",
   "version": "3.6.8"
  }
 },
 "nbformat": 4,
 "nbformat_minor": 2
}
