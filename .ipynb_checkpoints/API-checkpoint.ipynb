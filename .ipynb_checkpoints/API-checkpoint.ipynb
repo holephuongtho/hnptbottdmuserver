{
 "cells": [
  {
   "cell_type": "code",
   "execution_count": 1,
   "metadata": {},
   "outputs": [
    {
     "name": "stderr",
     "output_type": "stream",
     "text": [
      "/home/lap12985/.local/lib/python3.6/site-packages/fuzzywuzzy/fuzz.py:11: UserWarning: Using slow pure-python SequenceMatcher. Install python-Levenshtein to remove this warning\n",
      "  warnings.warn('Using slow pure-python SequenceMatcher. Install python-Levenshtein to remove this warning')\n"
     ]
    },
    {
     "name": "stdout",
     "output_type": "stream",
     "text": [
      "181\n",
      "C00\n",
      "https://www.hcmut.ed.vn\n",
      "http://ktx.vnuhcm.edu.vn\n",
      "True\n",
      "268 Lý Thường Kiệt, P.14, Q.10, TpHCM\n",
      "(False, 'Bạn muốn hỏi về ngành học nào?')\n",
      "{'DiemChuan': {25, 26}, 'KhoiThi': {'A00', 'B00'}, 'Truong': {'BK', 'HCMUE'}, 'NganhHoc': {'Giáo dục Chính trị'}}\n",
      "{'Truong': False}\n",
      "Em muốn học khối A00 thì thi trường nào vậy? Em thích trường đại học bách khoa Đại học Bách khoa 100\n",
      "Em muốn học khối A00 thì thi trường nào vậy? Em thích trường đại học bách khoa Bách Khoa 100\n",
      "Trường Đại học Thủ Dầu Một có ký túc xá không? học phí như thế nào? Đại học Thủ Dầu Một 100\n",
      "Trường Đại học Thủ Dầu Một có ký túc xá không? học phí như thế nào? thủ dầu một 100\n",
      "\n",
      "INPUT: Trường giao thông vận tải học phí có cao không?\n",
      "Trường giao thông vận tải học phí có cao không? ĐH Giao Thông Vận Tải  91\n",
      "Input: ['Trường giao thông vận tải học phí có cao không?']\n",
      "Similarity score of [ Trường giao thông vận tải học phí có cao không? ]:  ('Trường gì', 94.73684210526316)\n",
      "Similarity score of [ Trường giao thông vận tải học phí có cao không? ]:  ('Học phí có cao không', 94.73684210526316)\n",
      "Output: {'Truong': ['Trường giao thông vận tải học phí có cao không?'], 'HocPhi': ['Trường giao thông vận tải học phí có cao không?']}\n",
      "\n",
      "     OUTPUT: INTENT:{'HocPhi': ['Trường giao thông vận tải học phí có cao không?']}\n",
      "\n",
      "     OUTPUT: EXTRACT:{'Truong': ['UTC']}\n",
      "\n",
      "INPUT: Em không biết thì trường gì\n",
      "Input: ['Em không biết thì trường gì']\n",
      "Similarity score of [ Em không biết thì trường gì ]:  ('Trường gì', 94.73684210526316)\n",
      "Output: {'Truong': ['Em không biết thì trường gì']}\n",
      "\n",
      "     OUTPUT: INTENT:{'Truong': ['Em không biết thì trường gì']}\n",
      "\n",
      "     OUTPUT: EXTRACT:{}\n",
      "\n",
      "INPUT: Khoa học và kỹ thuật máy tính\n",
      "Input: ['Khoa học và kỹ thuật máy tính']\n",
      "Output: {}\n",
      "\n",
      "     OUTPUT: INTENT:{}\n",
      "\n",
      "     OUTPUT: EXTRACT:{}\n",
      "\n",
      "INPUT: 25\n",
      "Input: ['25']\n",
      "Output: {}\n",
      "\n",
      "     OUTPUT: INTENT:{}\n",
      "\n",
      "     OUTPUT: EXTRACT:{'DiemChuan': [25.0]}\n",
      "\n",
      "INPUT: Trường Thủ Dầu Một có ký túc xá không? học phí như thế nào?\n",
      "Trường Thủ Dầu Một có ký túc xá không? học phí như thế nào? thủ dầu một 100\n",
      "Input: ['Trường Thủ Dầu Một có ký túc xá không? học phí như thế nào?']\n",
      "Similarity score of [ Trường Thủ Dầu Một có ký túc xá không? học phí như thế nào? ]:  ('Trường gì', 92.47311827956989)\n",
      "Similarity score of [ Trường Thủ Dầu Một có ký túc xá không? học phí như thế nào? ]:  ('Có ký túc xá không', 94.73684210526316)\n",
      "Similarity score of [ Trường Thủ Dầu Một có ký túc xá không? học phí như thế nào? ]:  ('Học phí bao nhiêu', 92.47311827956989)\n",
      "Output: {'Truong': ['Trường Thủ Dầu Một có ký túc xá không? học phí như thế nào?'], 'KyTucXa': ['Trường Thủ Dầu Một có ký túc xá không? học phí như thế nào?'], 'HocPhi': ['Trường Thủ Dầu Một có ký túc xá không? học phí như thế nào?']}\n",
      "\n",
      "     OUTPUT: INTENT:{'KyTucXa': ['Trường Thủ Dầu Một có ký túc xá không? học phí như thế nào?'], 'HocPhi': ['Trường Thủ Dầu Một có ký túc xá không? học phí như thế nào?']}\n",
      "\n",
      "     OUTPUT: EXTRACT:{'Truong': ['TDMU']}\n"
     ]
    }
   ],
   "source": [
    "import time\n",
    "import random\n",
    "import numpy as np\n",
    "from flask import Flask, request, jsonify\n",
    "from flask_cors import CORS\n",
    "app = Flask(__name__)\n",
    "CORS(app) \n",
    "from pprint import pprint\n",
    "Graph_Container = dict()\n",
    "from fuzzywuzzy import process,fuzz\n",
    "from Graph import *\n",
    "from Intent import extract_and_get_intent\n",
    "from DB import saveRating"
   ]
  },
  {
   "cell_type": "code",
   "execution_count": 10,
   "metadata": {},
   "outputs": [],
   "source": [
    "def msg(code, mess=None):\n",
    "    if code == 200 and mess is None:\n",
    "        return jsonify({\"code\":200, \"value\": True})\n",
    "    else:\n",
    "        return jsonify({\"code\": code, \"message\": mess}), code\n"
   ]
  },
  {
   "cell_type": "code",
   "execution_count": 11,
   "metadata": {},
   "outputs": [],
   "source": [
    "def get_new_id():\n",
    "    while (True):\n",
    "        _id = str(random.randint(100000, 999999))\n",
    "        if _id not in Graph_Container.keys():\n",
    "            return _id"
   ]
  },
  {
   "cell_type": "code",
   "execution_count": 12,
   "metadata": {},
   "outputs": [],
   "source": [
    "def process_save_POST(data):\n",
    "    data[\"timestamp\"] = int(round(time.time() * 1000))\n",
    "    rating_collection.insert_one(data)\n",
    "    return \"saved\""
   ]
  },
  {
   "cell_type": "code",
   "execution_count": 13,
   "metadata": {},
   "outputs": [],
   "source": [
    "def process_conversation_POST(graph_id, message):\n",
    "    graph = None\n",
    "    if graph_id in Graph_Container.keys():\n",
    "        graph = Graph_Container[graph_id]\n",
    "    else:\n",
    "        graph = HuongNghiep_Graph()\n",
    "        Graph_Container[graph_id] = graph\n",
    "    \n",
    "    extracted, extracted_dict, candidate_intent_dict = extract_and_get_intent(message)\n",
    "    graph.fill(extracted_dict, candidate_intent_dict)"
   ]
  },
  {
   "cell_type": "code",
   "execution_count": 14,
   "metadata": {},
   "outputs": [],
   "source": [
    "def process_conversation_GET(graph_id):\n",
    "    returnMesg = None\n",
    "    graph = Graph_Container[graph_id]\n",
    "    isDone, returnMesg = graph.getResponse()\n",
    "            \n",
    "    returnDict = dict()\n",
    "    if isDone:\n",
    "        returnDict[\"answer\"] = returnMesg\n",
    "    else:\n",
    "        returnDict[\"question\"] = returnMesg\n",
    "    returnDict[\"isDone\"] = isDone   \n",
    "    returnDict[\"graph\"] = list(graph.intents.keys())\n",
    "    return returnDict"
   ]
  },
  {
   "cell_type": "code",
   "execution_count": null,
   "metadata": {},
   "outputs": [],
   "source": []
  },
  {
   "cell_type": "code",
   "execution_count": null,
   "metadata": {},
   "outputs": [
    {
     "name": "stdout",
     "output_type": "stream",
     "text": [
      " * Serving Flask app \"__main__\" (lazy loading)\n",
      " * Environment: production\n",
      "   WARNING: This is a development server. Do not use it in a production deployment.\n",
      "   Use a production WSGI server instead.\n",
      " * Debug mode: off\n"
     ]
    },
    {
     "name": "stderr",
     "output_type": "stream",
     "text": [
      " * Running on http://127.0.0.1:5000/ (Press CTRL+C to quit)\n"
     ]
    },
    {
     "name": "stdout",
     "output_type": "stream",
     "text": [
      "{'graph_id': '5a4bde6d-a0f3-1276-6a98-767eda40b28c', 'message': 'Trường Đại học Gia định có ký túc xá không?'}\n",
      "('\\n'\n",
      " '   API POST: graph: 5a4bde6d-a0f3-1276-6a98-767eda40b28c message: Trường Đại '\n",
      " 'học Gia định có ký túc xá không?')\n",
      "\n",
      "INPUT: Trường Đại học Gia định có ký túc xá không?\n",
      "Trường Đại học Gia định có ký túc xá không? Đại học Gia Định 100\n",
      "Trường Đại học Gia định có ký túc xá không? Gia Định 100\n",
      "Input: ['Trường Đại học Gia định có ký túc xá không?']\n",
      "Similarity score of [ Trường Đại học Gia định có ký túc xá không? ]:  ('Trường gì', 92.47311827956989)\n"
     ]
    },
    {
     "name": "stderr",
     "output_type": "stream",
     "text": [
      "127.0.0.1 - - [12/Oct/2019 10:43:55] \"POST /api/conversation-manager HTTP/1.1\" 200 -\n"
     ]
    },
    {
     "name": "stdout",
     "output_type": "stream",
     "text": [
      "Similarity score of [ Trường Đại học Gia định có ký túc xá không? ]:  ('Có ký túc xá không', 94.73684210526316)\n",
      "Output: {'Truong': ['Trường Đại học Gia định có ký túc xá không?'], 'KyTucXa': ['Trường Đại học Gia định có ký túc xá không?']}\n",
      "\n",
      "     OUTPUT: INTENT:{'KyTucXa': ['Trường Đại học Gia định có ký túc xá không?']}\n",
      "\n",
      "     OUTPUT: EXTRACT:{'Truong': ['GIADINH']}\n"
     ]
    },
    {
     "name": "stderr",
     "output_type": "stream",
     "text": [
      "127.0.0.1 - - [12/Oct/2019 10:43:57] \"DELETE /api/conversation-manager?graph_id=5a4bde6d-a0f3-1276-6a98-767eda40b28c HTTP/1.1\" 200 -\n"
     ]
    },
    {
     "name": "stdout",
     "output_type": "stream",
     "text": [
      "{'graph_id': '5a4bde6d-a0f3-1276-6a98-767eda40b28c', 'message': 'Trường thủ dầu một có địa chỉ ở đâu?'}\n",
      "('\\n'\n",
      " '   API POST: graph: 5a4bde6d-a0f3-1276-6a98-767eda40b28c message: Trường thủ '\n",
      " 'dầu một có địa chỉ ở đâu?')\n",
      "\n",
      "INPUT: Trường thủ dầu một có địa chỉ ở đâu?\n",
      "Input: ['Trường thủ dầu một có địa chỉ ở đâu?']\n",
      "Similarity score of [ Trường thủ dầu một có địa chỉ ở đâu? ]:  ('Trường gì', 92.47311827956989)\n",
      "Similarity score of [ Trường thủ dầu một có địa chỉ ở đâu? ]:  ('Địa chỉ ở đâu', 94.73684210526316)\n"
     ]
    },
    {
     "name": "stderr",
     "output_type": "stream",
     "text": [
      "127.0.0.1 - - [12/Oct/2019 10:49:17] \"POST /api/conversation-manager HTTP/1.1\" 200 -\n"
     ]
    },
    {
     "name": "stdout",
     "output_type": "stream",
     "text": [
      "Output: {'Truong': ['Trường thủ dầu một có địa chỉ ở đâu?'], 'DiaChi': ['Trường thủ dầu một có địa chỉ ở đâu?']}\n",
      "\n",
      "     OUTPUT: INTENT:{'Truong': ['Trường thủ dầu một có địa chỉ ở đâu?'], 'DiaChi': ['Trường thủ dầu một có địa chỉ ở đâu?']}\n",
      "\n",
      "     OUTPUT: EXTRACT:{}\n"
     ]
    },
    {
     "name": "stderr",
     "output_type": "stream",
     "text": [
      "127.0.0.1 - - [12/Oct/2019 10:49:45] \"DELETE /api/conversation-manager?graph_id=5a4bde6d-a0f3-1276-6a98-767eda40b28c HTTP/1.1\" 200 -\n"
     ]
    },
    {
     "name": "stdout",
     "output_type": "stream",
     "text": [
      "{'graph_id': '5a4bde6d-a0f3-1276-6a98-767eda40b28c', 'message': 'Trường thủ dầu một có địa chỉ ở đâu?'}\n",
      "('\\n'\n",
      " '   API POST: graph: 5a4bde6d-a0f3-1276-6a98-767eda40b28c message: Trường thủ '\n",
      " 'dầu một có địa chỉ ở đâu?')\n",
      "\n",
      "INPUT: Trường thủ dầu một có địa chỉ ở đâu?\n",
      "Input: ['Trường thủ dầu một có địa chỉ ở đâu?']\n",
      "Similarity score of [ Trường thủ dầu một có địa chỉ ở đâu? ]:  ('Trường gì', 92.47311827956989)\n",
      "Similarity score of [ Trường thủ dầu một có địa chỉ ở đâu? ]:  ('Địa chỉ ở đâu', 94.73684210526316)\n"
     ]
    },
    {
     "name": "stderr",
     "output_type": "stream",
     "text": [
      "127.0.0.1 - - [12/Oct/2019 10:49:56] \"POST /api/conversation-manager HTTP/1.1\" 200 -\n",
      "127.0.0.1 - - [12/Oct/2019 10:49:56] \"GET /api/conversation-manager?graph_id=5a4bde6d-a0f3-1276-6a98-767eda40b28c HTTP/1.1\" 200 -\n"
     ]
    },
    {
     "name": "stdout",
     "output_type": "stream",
     "text": [
      "Output: {'Truong': ['Trường thủ dầu một có địa chỉ ở đâu?'], 'DiaChi': ['Trường thủ dầu một có địa chỉ ở đâu?']}\n",
      "\n",
      "     OUTPUT: INTENT:{'Truong': ['Trường thủ dầu một có địa chỉ ở đâu?'], 'DiaChi': ['Trường thủ dầu một có địa chỉ ở đâu?']}\n",
      "\n",
      "     OUTPUT: EXTRACT:{}\n"
     ]
    }
   ],
   "source": [
    "@app.route('/')\n",
    "def index():\n",
    "    return \"\"\"<h1>Tư vấn hướng nghiệp - Hồ Lê Phương Thọ</h1>\"\"\"\n",
    "\n",
    "@app.errorhandler(404)\n",
    "def url_error(e):\n",
    "    return msg(404, \"NOT FOUND\")\n",
    "\n",
    "@app.errorhandler(500)\n",
    "def server_error(e):\n",
    "    return msg(500, \"SERVER ERROR\")\n",
    "\n",
    "#input_data: { message: <text>, graph_id: <something>}\n",
    "\n",
    "@app.route('/api/conversation-manager', methods=['POST'])\n",
    "def post_api():\n",
    "    input_data = request.json\n",
    "    print(input_data)\n",
    "    if \"message\" not in input_data.keys(): \n",
    "        return msg(400, \"Message cannot be None\")\n",
    "    else:\n",
    "        message = input_data[\"message\"]\n",
    "    if \"graph_id\" not in input_data.keys(): \n",
    "        graph_id = get_new_id()\n",
    "    else:\n",
    "        graph_id = input_data[\"graph_id\"]\n",
    "    pprint('\\n   API POST: graph: ' + graph_id + \" message: \" + message)\n",
    "    process_conversation_POST(graph_id, message)\n",
    "    return msg(200, \"Graph_id: \" + str(graph_id))\n",
    "\n",
    "@app.route('/api/conversation-manager', methods=['GET'])\n",
    "def get_api():\n",
    "    graph_id = request.args.get('graph_id')\n",
    " \n",
    "    if graph_id is None: \n",
    "        return msg(400, \"Graph ID cannot be None\")    \n",
    "    if graph_id not in Graph_Container.keys():\n",
    "        return msg(404, \"Graph not found\")\n",
    "    \n",
    "    output_data = process_conversation_GET(graph_id)\n",
    "    return jsonify(output_data)\n",
    "\n",
    "@app.route('/api/conversation-manager', methods=['DELETE'])\n",
    "def delete_api():\n",
    "    graph_id = request.args.get('graph_id')\n",
    "    new_node_name = request.args.get('new_node')\n",
    "    if graph_id is None: \n",
    "        return msg(400, \"Graph ID cannot be None\")   \n",
    "    if graph_id not in Graph_Container.keys():\n",
    "        return msg(404, \"Graph not found\")\n",
    "    else:\n",
    "        Graph_Container.pop(graph_id)\n",
    "        return msg(200, \"Pop graph \" + str(graph_id))\n",
    "        \n",
    "@app.route('/api/save-rating-conversation', methods=['POST'])\n",
    "def post_save_rating_conversation():\n",
    "    input_data = request.json\n",
    "    saved = saveRating(input_data)\n",
    "    return msg(200, saved)\n",
    "\n",
    "if __name__ == '__main__':\n",
    "    app.run()"
   ]
  },
  {
   "cell_type": "code",
   "execution_count": null,
   "metadata": {},
   "outputs": [],
   "source": []
  },
  {
   "cell_type": "code",
   "execution_count": null,
   "metadata": {},
   "outputs": [],
   "source": []
  },
  {
   "cell_type": "code",
   "execution_count": null,
   "metadata": {},
   "outputs": [],
   "source": []
  }
 ],
 "metadata": {
  "kernelspec": {
   "display_name": "Python 3",
   "language": "python",
   "name": "python3"
  },
  "language_info": {
   "codemirror_mode": {
    "name": "ipython",
    "version": 3
   },
   "file_extension": ".py",
   "mimetype": "text/x-python",
   "name": "python",
   "nbconvert_exporter": "python",
   "pygments_lexer": "ipython3",
   "version": "3.6.8"
  }
 },
 "nbformat": 4,
 "nbformat_minor": 2
}
